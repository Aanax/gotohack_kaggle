{
 "cells": [
  {
   "cell_type": "code",
   "execution_count": 1,
   "metadata": {
    "collapsed": false
   },
   "outputs": [],
   "source": [
    "import pandas as pd\n",
    "import numpy as np\n",
    "from sklearn.ensemble import RandomForestClassifier"
   ]
  },
  {
   "cell_type": "code",
   "execution_count": 2,
   "metadata": {
    "collapsed": false
   },
   "outputs": [
    {
     "name": "stderr",
     "output_type": "stream",
     "text": [
      "/home/aanax/anaconda3/lib/python3.5/site-packages/sklearn/cross_validation.py:44: DeprecationWarning: This module was deprecated in version 0.18 in favor of the model_selection module into which all the refactored classes and functions are moved. Also note that the interface of the new CV iterators are different from that of this module. This module will be removed in 0.20.\n",
      "  \"This module will be removed in 0.20.\", DeprecationWarning)\n"
     ]
    }
   ],
   "source": [
    "from sklearn.cross_validation import train_test_split\n",
    "from sklearn.metrics import f1_score\n",
    "import xgboost as xgb\n",
    "from sklearn.metrics import fbeta_score, make_scorer\n",
    "import warnings\n",
    "from sklearn.model_selection import GridSearchCV\n",
    "from sklearn.model_selection import RandomizedSearchCV"
   ]
  },
  {
   "cell_type": "code",
   "execution_count": 3,
   "metadata": {
    "collapsed": true
   },
   "outputs": [],
   "source": [
    "location = ''\n",
    "events = pd.DataFrame.from_csv(location+\"user_activity.csv\",index_col=None)\n",
    "structure = pd.DataFrame.from_csv(location+\"structure.csv\",index_col=None)\n",
    "targets = pd.DataFrame.from_csv(location+\"targets.csv\",index_col=None)\n",
    "events_test = pd.DataFrame.from_csv(location+\"user_activity_test.csv\",index_col=None)"
   ]
  },
  {
   "cell_type": "code",
   "execution_count": 5,
   "metadata": {
    "collapsed": true
   },
   "outputs": [],
   "source": [
    "def encodeact(acts):\n",
    "    new=np.zeros((4))\n",
    "    for i in acts:\n",
    "        if i[0]=='d':\n",
    "            new[0]=1\n",
    "        if i[0]=='v':\n",
    "            new[1]=1\n",
    "        if i[0]=='s':\n",
    "            new[2]=1\n",
    "        if i[0]=='p':\n",
    "            new[3]=1\n",
    "        #print(new)\n",
    "    #while len(new)<4:\n",
    "    #    new.append(0)\n",
    "    #new.sort()\n",
    "    return new"
   ]
  },
  {
   "cell_type": "code",
   "execution_count": 6,
   "metadata": {
    "collapsed": false
   },
   "outputs": [],
   "source": [
    "#step to step average time.\n",
    "#step to step average time derivative?\n",
    "\n",
    "encoded = pd.DataFrame([i for i in events[\"action\"].apply(encodeact)],columns = [\"discover\",\"view\",\"start\",\"pass\"])\n",
    "events = pd.concat([events,encoded],axis=1)\n",
    "\n",
    "encoded_test = pd.DataFrame([i for i in events_test[\"action\"].apply(encodeact)],columns = [\"discover\",\"view\",\"start\",\"pass\"])\n",
    "events_test = pd.concat([events_test,encoded_test],axis=1)"
   ]
  },
  {
   "cell_type": "code",
   "execution_count": 7,
   "metadata": {
    "collapsed": true
   },
   "outputs": [],
   "source": [
    "from scipy.interpolate import InterpolatedUnivariateSpline"
   ]
  },
  {
   "cell_type": "code",
   "execution_count": 58,
   "metadata": {
    "collapsed": false
   },
   "outputs": [],
   "source": [
    "def getX(ev):\n",
    "    'Функция формирует входные вектора для алгоритма RandomForest'\n",
    "    sc  = ev.groupby('user_id')\n",
    "    mintime = np.array(sc.time.max()).reshape((-1,1))\n",
    "    maxtime = np.array(sc.time.min()).reshape((-1,1))\n",
    "    \n",
    "    \n",
    "    numsess=[]#pd.DataFrame(columns=[\"numsess\"])\n",
    "    avgsess=[]#pd.DataFrame(columns=[\"avgsess\"])\n",
    "    avgtime=[]#pd.DataFrame(columns=[\"avgtime\"])\n",
    "    derivend=[]\n",
    "    derivavg=[]\n",
    "    maxdelay=[]\n",
    "    lasttime=[]\n",
    "    lasttime1=[]\n",
    "    iscoder=[]\n",
    "    isnumber=[]\n",
    "    isstring=[]\n",
    "    for name,group in sc:\n",
    "       #print(group[\"time\"][0:5])\n",
    "        base = np.array(group[\"time\"]).reshape(-1,1)\n",
    "       #print(\"+++++++++++\")\n",
    "       #print(base)\n",
    "        shifted = [0]+list(group[\"time\"])\n",
    "        shifted.pop()\n",
    "        shifted = np.array(shifted).reshape(-1,1)\n",
    "        ststime = base - shifted\n",
    "        if len(ststime)>=3:\n",
    "            ststime[0] = np.mean(ststime[1:])\n",
    "            avgststime = np.mean(ststime)\n",
    "            sesstimes = [i for i in ststime if i>=avgststime]\n",
    "            avgsesstime = np.mean(sesstimes)\n",
    "            sessions = len(sesstimes)\n",
    "            sesstimes = np.array(sesstimes).reshape(-1,1)\n",
    "            if sesstimes.shape[0] >=2:\n",
    "                \n",
    "                dfdx = np.gradient(sesstimes,axis=0)\n",
    "            else:\n",
    "                dfdx = [0]\n",
    "            \n",
    "        \n",
    "        else:\n",
    "            avgststime = 1000000\n",
    "            sessions = 1\n",
    "            avgsesstime = 1000000\n",
    "            dfdx = [0]\n",
    "            \n",
    "        numsess.append(sessions)\n",
    "        avgsess.append(avgsesstime)\n",
    "        avgtime.append(avgststime)\n",
    "        derivend.append(dfdx[-1])\n",
    "        maxdelay.append(max(ststime))\n",
    "        lasttime.append(sesstimes[-1])\n",
    "        lasttime1.append(ststime[-1])\n",
    "        #\n",
    "        passed = group[group[\"action\"] == 'passed']\n",
    "        iscoder.append(np.array(passed[\"step_type\"] == 'code').sum())\n",
    "        isnumber.append(np.array(passed[\"step_type\"] == 'number').sum())\n",
    "        isstring.append(np.array(passed[\"step_type\"] == 'string').sum())\n",
    "        derivavg.append(np.mean(dfdx))\n",
    "        \n",
    "    numsess=np.array(numsess).reshape((-1,1))\n",
    "    avgsess=np.array(avgsess).reshape((-1,1))\n",
    "    avgtime=np.array(avgtime).reshape((-1,1))\n",
    "    derivavg=np.array(derivavg).reshape((-1,1))\n",
    "    derivend=np.array(derivend).reshape((-1,1))\n",
    "    maxdelay=np.array(maxdelay).reshape((-1,1))\n",
    "    lasttime=np.array(lasttime).reshape((-1,1))\n",
    "    lasttime1=np.array(lasttime1).reshape((-1,1))\n",
    "    iscoder=np.array(iscoder).reshape((-1,1))\n",
    "    isnumber=np.array(isnumber).reshape((-1,1))\n",
    "    isstring=np.array(isstring).reshape((-1,1))\n",
    "    print(\"1deal\",avgtime.shape)\n",
    "    print(\"1\",lasttime.shape)\n",
    "    print(\"2\",lasttime1.shape)\n",
    "    return (sc.sum().index, np.hstack([sc.sum()[[\"step_cost\" ,\"view\",\"start\",\"pass\"]].values,\n",
    "                                       mintime,#good\n",
    "                                       maxtime,\n",
    "                                       maxtime-mintime,#good\n",
    "                                       numsess, #gd?\n",
    "                                       #avgsess,#bad\n",
    "                                       avgtime,#good\n",
    "                                       derivend,\n",
    "                                       derivavg,\n",
    "                                       maxdelay,\n",
    "                                       lasttime,\n",
    "                                       #lasttime1,#bad\n",
    "                                       #isnumber,#bad\n",
    "                                       isstring,\n",
    "                                       iscoder\n",
    "                                      ] )) #   \"discover\",\n"
   ]
  },
  {
   "cell_type": "code",
   "execution_count": 59,
   "metadata": {
    "collapsed": false
   },
   "outputs": [
    {
     "name": "stdout",
     "output_type": "stream",
     "text": [
      "1deal (16625, 1)\n",
      "1 (16625, 1)\n",
      "2 (16625, 1)\n"
     ]
    }
   ],
   "source": [
    "ind, X = getX(events)"
   ]
  },
  {
   "cell_type": "code",
   "execution_count": 60,
   "metadata": {
    "collapsed": false
   },
   "outputs": [
    {
     "name": "stdout",
     "output_type": "stream",
     "text": [
      "1deal (4255, 1)\n",
      "1 (4255, 1)\n",
      "2 (4255, 1)\n"
     ]
    }
   ],
   "source": [
    "ind_test, X_test = getX(events_test)"
   ]
  },
  {
   "cell_type": "code",
   "execution_count": 61,
   "metadata": {
    "collapsed": true
   },
   "outputs": [],
   "source": [
    "Y = targets.passed.values"
   ]
  },
  {
   "cell_type": "code",
   "execution_count": 62,
   "metadata": {
    "collapsed": true
   },
   "outputs": [],
   "source": [
    "Xtr,Xval,Ytr,Yval = train_test_split(X,Y,test_size=0.1,random_state=128)"
   ]
  },
  {
   "cell_type": "code",
   "execution_count": 66,
   "metadata": {
    "collapsed": false
   },
   "outputs": [],
   "source": [
    "boostmodel1 = xgb.XGBClassifier(max_depth=6,learning_rate=0.0001,n_estimators=5900,base_score=0.6)#,reg_alpha=0.1)\n",
    "boostmodel1 = boostmodel1.fit(Xtr, Ytr)"
   ]
  },
  {
   "cell_type": "code",
   "execution_count": 67,
   "metadata": {
    "collapsed": false
   },
   "outputs": [],
   "source": [
    "ttst=boostmodel1.booster()"
   ]
  },
  {
   "cell_type": "code",
   "execution_count": 70,
   "metadata": {
    "collapsed": false
   },
   "outputs": [
    {
     "name": "stdout",
     "output_type": "stream",
     "text": [
      "0.411764705882\n"
     ]
    }
   ],
   "source": [
    "#Оценим \n",
    "print(f1_score(Yval, boostmodel1.predict(Xval)))\n",
    "\n",
    "#without bad features does better on val but worse on lb"
   ]
  },
  {
   "cell_type": "code",
   "execution_count": 447,
   "metadata": {
    "collapsed": true
   },
   "outputs": [],
   "source": [
    "features = [\"step_cost\",\"discover\",\"view\",\"start\",\"pass\",\n",
    "                                       \"mintime\",\n",
    "                                       \"maxtime\",\n",
    "                                       \"maxtime-mintime\",\n",
    "                                       \"numsess\",\n",
    "                                       \"avgsess\",\n",
    "                                       \"avgtime\",\n",
    "                                       \"derivend\",\n",
    "                                       \"derivavg\",\n",
    "                                       \"maxdelay\",\n",
    "                                       \"lasttime\",\n",
    "                                       \"lasttime1\"\n",
    "                                       ,\"isnumber\",\"isstring\",\"iscoder\"]"
   ]
  },
  {
   "cell_type": "code",
   "execution_count": 417,
   "metadata": {
    "collapsed": true
   },
   "outputs": [],
   "source": [
    "def create_feature_map(fmap_filename, features):\n",
    "    '''\n",
    "    features: enumerable of feature names\n",
    "    '''\n",
    "    outfile = open(fmap_filename, 'w')\n",
    "    for i, feat in enumerate(features):\n",
    "        outfile.write('{0}\\t{1}\\tq\\n'.format(i, feat))\n",
    "    outfile.close()\n",
    "\n",
    "create_feature_map('xgb.fmap', features) "
   ]
  },
  {
   "cell_type": "code",
   "execution_count": null,
   "metadata": {
    "collapsed": true
   },
   "outputs": [],
   "source": []
  },
  {
   "cell_type": "code",
   "execution_count": 78,
   "metadata": {
    "collapsed": true
   },
   "outputs": [],
   "source": [
    "from matplotlib import pyplot\n",
    "import seaborn as sns"
   ]
  },
  {
   "cell_type": "code",
   "execution_count": 68,
   "metadata": {
    "collapsed": false
   },
   "outputs": [],
   "source": [
    "a=ttst.get_score(fmap = 'xgb.fmap', importance_type = 'cover')#[list(ttst.get_score(fmap = 'xgb.fmap', importance_type = 'cover').keys())]"
   ]
  },
  {
   "cell_type": "code",
   "execution_count": 83,
   "metadata": {
    "collapsed": false
   },
   "outputs": [],
   "source": [
    "import pandas as pd"
   ]
  },
  {
   "cell_type": "code",
   "execution_count": 129,
   "metadata": {
    "collapsed": false
   },
   "outputs": [],
   "source": [
    "a=pd.DataFrame(ttst.get_score(fmap = 'xgb.fmap', importance_type = 'gain'),np.arange(1))\n",
    "a.plot(kind=\"bar\",colormap=\"Pastel1\")\n",
    "pyplot.show()"
   ]
  },
  {
   "cell_type": "code",
   "execution_count": 30,
   "metadata": {
    "collapsed": false
   },
   "outputs": [],
   "source": [
    "from sklearn.externals import joblib"
   ]
  },
  {
   "cell_type": "code",
   "execution_count": 418,
   "metadata": {
    "collapsed": false
   },
   "outputs": [
    {
     "data": {
      "text/plain": [
       "['0.51_ScoreModel.pkl']"
      ]
     },
     "execution_count": 418,
     "metadata": {},
     "output_type": "execute_result"
    }
   ],
   "source": [
    "joblib.dump(boostmodel1,\"0.51_ScoreModel.pkl\",compress=9)"
   ]
  },
  {
   "cell_type": "code",
   "execution_count": null,
   "metadata": {
    "collapsed": true
   },
   "outputs": [],
   "source": [
    "joblib.dump(model,\"0.443_ScoreModel.pkl\",compress=9)"
   ]
  },
  {
   "cell_type": "code",
   "execution_count": 71,
   "metadata": {
    "collapsed": true
   },
   "outputs": [],
   "source": [
    "def create_submission(X, name):\n",
    "    np.savetxt('%s.csv'%name, X, delimiter=',', fmt=\"%d\", header='user_id,passed', comments='')"
   ]
  },
  {
   "cell_type": "code",
   "execution_count": 72,
   "metadata": {
    "collapsed": false
   },
   "outputs": [],
   "source": [
    "#Предскажем результат и запишем его в .csv\n",
    "#ans = clf.best_estimator_.predict(X_test)\n",
    "ans = boostmodel1.predict(X_test)\n",
    "result = np.concatenate((np.asarray(ind_test, dtype=int).reshape(-1, 1), np.asarray(ans, dtype=int).reshape(-1, 1)), axis=1)\n",
    "create_submission(result, 'submission')"
   ]
  },
  {
   "cell_type": "code",
   "execution_count": null,
   "metadata": {
    "collapsed": true
   },
   "outputs": [],
   "source": [
    "#Gather statistics only bout costed\n",
    "#Bool for code, string, number ..."
   ]
  }
 ],
 "metadata": {
  "anaconda-cloud": {},
  "kernelspec": {
   "display_name": "Python 2",
   "language": "python",
   "name": "python2"
  },
  "language_info": {
   "codemirror_mode": {
    "name": "ipython",
    "version": 2
   },
   "file_extension": ".py",
   "mimetype": "text/x-python",
   "name": "python",
   "nbconvert_exporter": "python",
   "pygments_lexer": "ipython2",
   "version": "2.7.11"
  }
 },
 "nbformat": 4,
 "nbformat_minor": 1
}
