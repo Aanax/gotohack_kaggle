{
 "cells": [
  {
   "cell_type": "code",
   "execution_count": 1,
   "metadata": {
    "collapsed": false
   },
   "outputs": [],
   "source": [
    "import pandas as pd\n",
    "import numpy as np\n",
    "from sklearn.ensemble import RandomForestClassifier"
   ]
  },
  {
   "cell_type": "code",
   "execution_count": 2,
   "metadata": {
    "collapsed": false
   },
   "outputs": [
    {
     "name": "stderr",
     "output_type": "stream",
     "text": [
      "/home/aanax/anaconda3/lib/python3.5/site-packages/sklearn/cross_validation.py:44: DeprecationWarning: This module was deprecated in version 0.18 in favor of the model_selection module into which all the refactored classes and functions are moved. Also note that the interface of the new CV iterators are different from that of this module. This module will be removed in 0.20.\n",
      "  \"This module will be removed in 0.20.\", DeprecationWarning)\n"
     ]
    }
   ],
   "source": [
    "from sklearn.cross_validation import train_test_split\n",
    "from sklearn.metrics import f1_score\n",
    "import xgboost as xgb\n",
    "from sklearn.metrics import fbeta_score, make_scorer\n",
    "import warnings\n",
    "from sklearn.model_selection import GridSearchCV\n",
    "from sklearn.model_selection import RandomizedSearchCV"
   ]
  },
  {
   "cell_type": "code",
   "execution_count": 3,
   "metadata": {
    "collapsed": true
   },
   "outputs": [],
   "source": [
    "location = ''\n",
    "events = pd.DataFrame.from_csv(location+\"user_activity.csv\",index_col=None)\n",
    "structure = pd.DataFrame.from_csv(location+\"structure.csv\",index_col=None)\n",
    "targets = pd.DataFrame.from_csv(location+\"targets.csv\",index_col=None)\n",
    "events_test = pd.DataFrame.from_csv(location+\"user_activity_test.csv\",index_col=None)"
   ]
  },
  {
   "cell_type": "code",
   "execution_count": 4,
   "metadata": {
    "collapsed": false
   },
   "outputs": [
    {
     "data": {
      "text/html": [
       "<div>\n",
       "<table border=\"1\" class=\"dataframe\">\n",
       "  <thead>\n",
       "    <tr style=\"text-align: right;\">\n",
       "      <th></th>\n",
       "      <th>user_id</th>\n",
       "      <th>score</th>\n",
       "      <th>passed</th>\n",
       "      <th>distinction</th>\n",
       "    </tr>\n",
       "  </thead>\n",
       "  <tbody>\n",
       "    <tr>\n",
       "      <th>0</th>\n",
       "      <td>1</td>\n",
       "      <td>0</td>\n",
       "      <td>0</td>\n",
       "      <td>0</td>\n",
       "    </tr>\n",
       "    <tr>\n",
       "      <th>1</th>\n",
       "      <td>2</td>\n",
       "      <td>82</td>\n",
       "      <td>0</td>\n",
       "      <td>0</td>\n",
       "    </tr>\n",
       "    <tr>\n",
       "      <th>2</th>\n",
       "      <td>3</td>\n",
       "      <td>89</td>\n",
       "      <td>0</td>\n",
       "      <td>0</td>\n",
       "    </tr>\n",
       "    <tr>\n",
       "      <th>3</th>\n",
       "      <td>4</td>\n",
       "      <td>9</td>\n",
       "      <td>0</td>\n",
       "      <td>0</td>\n",
       "    </tr>\n",
       "    <tr>\n",
       "      <th>4</th>\n",
       "      <td>6</td>\n",
       "      <td>26</td>\n",
       "      <td>0</td>\n",
       "      <td>0</td>\n",
       "    </tr>\n",
       "  </tbody>\n",
       "</table>\n",
       "</div>"
      ],
      "text/plain": [
       "   user_id  score  passed  distinction\n",
       "0        1      0       0            0\n",
       "1        2     82       0            0\n",
       "2        3     89       0            0\n",
       "3        4      9       0            0\n",
       "4        6     26       0            0"
      ]
     },
     "execution_count": 4,
     "metadata": {},
     "output_type": "execute_result"
    }
   ],
   "source": [
    "targets.head()"
   ]
  },
  {
   "cell_type": "code",
   "execution_count": 5,
   "metadata": {
    "collapsed": true
   },
   "outputs": [],
   "source": [
    "\n",
    "def encodeact(acts):\n",
    "    new=np.zeros((4))\n",
    "    for i in acts:\n",
    "        if i[0]=='d':\n",
    "            new[0]=1\n",
    "        if i[0]=='v':\n",
    "            new[1]=1\n",
    "        if i[0]=='s':\n",
    "            new[2]=1\n",
    "        if i[0]=='p':\n",
    "            new[3]=1\n",
    "        #print(new)\n",
    "    #while len(new)<4:\n",
    "    #    new.append(0)\n",
    "    #new.sort()\n",
    "    return new"
   ]
  },
  {
   "cell_type": "code",
   "execution_count": 6,
   "metadata": {
    "collapsed": false
   },
   "outputs": [],
   "source": [
    "#step to step average time.\n",
    "#step to step average time derivative?\n",
    "\n",
    "encoded = pd.DataFrame([i for i in events[\"action\"].apply(encodeact)],columns = [\"discover\",\"view\",\"start\",\"pass\"])\n",
    "events = pd.concat([events,encoded],axis=1)\n",
    "\n",
    "encoded_test = pd.DataFrame([i for i in events_test[\"action\"].apply(encodeact)],columns = [\"discover\",\"view\",\"start\",\"pass\"])\n",
    "events_test = pd.concat([events_test,encoded_test],axis=1)"
   ]
  },
  {
   "cell_type": "code",
   "execution_count": 7,
   "metadata": {
    "collapsed": true
   },
   "outputs": [],
   "source": [
    "from scipy.interpolate import InterpolatedUnivariateSpline"
   ]
  },
  {
   "cell_type": "code",
   "execution_count": 58,
   "metadata": {
    "collapsed": false
   },
   "outputs": [],
   "source": [
    "def getX(ev):\n",
    "    'Функция формирует входные вектора для алгоритма RandomForest'\n",
    "    sc  = ev.groupby('user_id')\n",
    "    mintime = np.array(sc.time.max()).reshape((-1,1))\n",
    "    maxtime = np.array(sc.time.min()).reshape((-1,1))\n",
    "    \n",
    "    \n",
    "    numsess=[]#pd.DataFrame(columns=[\"numsess\"])\n",
    "    avgsess=[]#pd.DataFrame(columns=[\"avgsess\"])\n",
    "    avgtime=[]#pd.DataFrame(columns=[\"avgtime\"])\n",
    "    derivend=[]\n",
    "    derivavg=[]\n",
    "    maxdelay=[]\n",
    "    lasttime=[]\n",
    "    lasttime1=[]\n",
    "    iscoder=[]\n",
    "    isnumber=[]\n",
    "    isstring=[]\n",
    "    for name,group in sc:\n",
    "       #print(group[\"time\"][0:5])\n",
    "        base = np.array(group[\"time\"]).reshape(-1,1)\n",
    "       #print(\"+++++++++++\")\n",
    "       #print(base)\n",
    "        shifted = [0]+list(group[\"time\"])\n",
    "        shifted.pop()\n",
    "        shifted = np.array(shifted).reshape(-1,1)\n",
    "        ststime = base - shifted\n",
    "        if len(ststime)>=3:\n",
    "            ststime[0] = np.mean(ststime[1:])\n",
    "            avgststime = np.mean(ststime)\n",
    "\n",
    "           #print(\"DDDDDDDDDDDDDD\")\n",
    "           #print(avgststime)\n",
    "\n",
    "            sesstimes = [i for i in ststime if i>=avgststime]\n",
    "            avgsesstime = np.mean(sesstimes)\n",
    "            sessions = len(sesstimes)\n",
    "\n",
    "            #f = InterpolatedUnivariateSpline(x=list(range(0,len(sesstimes))), y = sesstimes, k=2)\n",
    "            #f = np.poly1d(in)\n",
    "            #dfdx = f.derivative()\n",
    "            sesstimes = np.array(sesstimes).reshape(-1,1)\n",
    "            #print(sesstimes.shape)\n",
    "            \n",
    "            #lasttime.append(sesstimes[-1])\n",
    "            #lasttime1.append(ststime[-1])\n",
    "            \n",
    "            if sesstimes.shape[0] >=2:\n",
    "                \n",
    "                dfdx = np.gradient(sesstimes,axis=0)\n",
    "            else:\n",
    "                dfdx = [0]\n",
    "            \n",
    "        \n",
    "        else:\n",
    "            avgststime = 1000000\n",
    "            sessions=1\n",
    "            avgsesstime=1000000\n",
    "            dfdx=[0]\n",
    "            \n",
    "        numsess.append(sessions)\n",
    "        avgsess.append(avgsesstime)\n",
    "        avgtime.append(avgststime)\n",
    "        derivend.append(dfdx[-1])\n",
    "        maxdelay.append(max(ststime))\n",
    "        lasttime.append(sesstimes[-1])\n",
    "        lasttime1.append(ststime[-1])\n",
    "        #\n",
    "        passed = group[group[\"action\"] == 'passed']\n",
    "        iscoder.append(np.array(passed[\"step_type\"] == 'code').sum())\n",
    "        isnumber.append(np.array(passed[\"step_type\"] == 'number').sum())\n",
    "        isstring.append(np.array(passed[\"step_type\"] == 'string').sum())\n",
    "        #derivend.append(dfdx[len(dfdx)-2])\n",
    "        #derivend.append(dfdx[len(dfdx)-3])\n",
    "        #derivend.append(dfdx[len(dfdx)-4])\n",
    "        derivavg.append(np.mean(dfdx))\n",
    "        #for i in range(0,len(ststime)):\n",
    "            #if ststime[i]<avgststime\n",
    "        \n",
    "    numsess=np.array(numsess).reshape((-1,1))\n",
    "    avgsess=np.array(avgsess).reshape((-1,1))\n",
    "    avgtime=np.array(avgtime).reshape((-1,1))\n",
    "    derivavg=np.array(derivavg).reshape((-1,1))\n",
    "    derivend=np.array(derivend).reshape((-1,1))\n",
    "    maxdelay=np.array(maxdelay).reshape((-1,1))\n",
    "    lasttime=np.array(lasttime).reshape((-1,1))\n",
    "    lasttime1=np.array(lasttime1).reshape((-1,1))\n",
    "    iscoder=np.array(iscoder).reshape((-1,1))\n",
    "    isnumber=np.array(isnumber).reshape((-1,1))\n",
    "    isstring=np.array(isstring).reshape((-1,1))\n",
    "    print(\"1deal\",avgtime.shape)\n",
    "    print(\"1\",lasttime.shape)\n",
    "    print(\"2\",lasttime1.shape)\n",
    "    return (sc.sum().index, np.hstack([sc.sum()[[\"step_cost\" ,\"view\",\"start\",\"pass\"]].values,\n",
    "                                       mintime,#good\n",
    "                                       maxtime,\n",
    "                                       maxtime-mintime,#good\n",
    "                                       numsess, #gd?\n",
    "                                       #avgsess,#bad\n",
    "                                       avgtime,#good\n",
    "                                       derivend,\n",
    "                                       derivavg,\n",
    "                                       maxdelay,\n",
    "                                       lasttime,\n",
    "                                       #lasttime1,#bad\n",
    "                                       #isnumber,#bad\n",
    "                                       isstring,\n",
    "                                       iscoder\n",
    "                                      ] )) #   \"discover\",\n",
    "    #return (sc.sum().index, np.hstack([iscoder,mintime,maxtime,sc.sum()[[\"start\",\"pass\"]]]))\n"
   ]
  },
  {
   "cell_type": "code",
   "execution_count": 59,
   "metadata": {
    "collapsed": false
   },
   "outputs": [
    {
     "name": "stdout",
     "output_type": "stream",
     "text": [
      "1deal (16625, 1)\n",
      "1 (16625, 1)\n",
      "2 (16625, 1)\n"
     ]
    }
   ],
   "source": [
    "ind, X = getX(events)"
   ]
  },
  {
   "cell_type": "code",
   "execution_count": 60,
   "metadata": {
    "collapsed": false
   },
   "outputs": [
    {
     "name": "stdout",
     "output_type": "stream",
     "text": [
      "1deal (4255, 1)\n",
      "1 (4255, 1)\n",
      "2 (4255, 1)\n"
     ]
    }
   ],
   "source": [
    "ind_test, X_test = getX(events_test)"
   ]
  },
  {
   "cell_type": "code",
   "execution_count": 61,
   "metadata": {
    "collapsed": true
   },
   "outputs": [],
   "source": [
    "Y = targets.passed.values"
   ]
  },
  {
   "cell_type": "code",
   "execution_count": 62,
   "metadata": {
    "collapsed": true
   },
   "outputs": [],
   "source": [
    "Xtr,Xval,Ytr,Yval = train_test_split(X,Y,test_size=0.1,random_state=128)"
   ]
  },
  {
   "cell_type": "code",
   "execution_count": 63,
   "metadata": {
    "collapsed": false
   },
   "outputs": [],
   "source": [
    "#parameters = {'max_depth':list(range(4,10)), 'learning_rate':list(np.linspace(0.0001,0.01,num=4)),'n_estimators':list(range(10,10000,310))}\n",
    "#boostmodel = xgb.XGBClassifier()\n",
    "#clf = GridSearchCV(boostmodel, parameters,scoring = \"f1\",n_jobs=3)"
   ]
  },
  {
   "cell_type": "code",
   "execution_count": 64,
   "metadata": {
    "collapsed": false
   },
   "outputs": [],
   "source": [
    "#clf.best_params_"
   ]
  },
  {
   "cell_type": "code",
   "execution_count": 65,
   "metadata": {
    "collapsed": false
   },
   "outputs": [],
   "source": [
    "#with warnings.catch_warnings():\n",
    "#    warnings.simplefilter(\"ignore\")\n",
    "    # Do stuff here\n",
    "#    clf.fit(Xtr,Ytr)"
   ]
  },
  {
   "cell_type": "code",
   "execution_count": 66,
   "metadata": {
    "collapsed": false
   },
   "outputs": [],
   "source": [
    "boostmodel1 = xgb.XGBClassifier(max_depth=6,learning_rate=0.0001,n_estimators=5900,base_score=0.6)#,reg_alpha=0.1)\n",
    "boostmodel1 = boostmodel1.fit(Xtr, Ytr)"
   ]
  },
  {
   "cell_type": "code",
   "execution_count": 67,
   "metadata": {
    "collapsed": false
   },
   "outputs": [],
   "source": [
    "ttst=boostmodel1.booster()"
   ]
  },
  {
   "cell_type": "code",
   "execution_count": 68,
   "metadata": {
    "collapsed": true
   },
   "outputs": [],
   "source": [
    "#boostmodel05 = xgb.XGBClassifier(max_depth=6,learning_rate=0.0001,n_estimators=5900,base_score=0.5)#,reg_alpha=0.1)\n",
    "#boostmodel05 = boostmodel05.fit(Xtr, Ytr)"
   ]
  },
  {
   "cell_type": "code",
   "execution_count": 69,
   "metadata": {
    "collapsed": false
   },
   "outputs": [],
   "source": [
    "#print(f1_score(Yval, boostmodel05.predict(Xval)))"
   ]
  },
  {
   "cell_type": "code",
   "execution_count": 70,
   "metadata": {
    "collapsed": false
   },
   "outputs": [
    {
     "name": "stdout",
     "output_type": "stream",
     "text": [
      "0.411764705882\n"
     ]
    }
   ],
   "source": [
    "#Оценим метрику на validation\n",
    "print(f1_score(Yval, boostmodel1.predict(Xval)))\n",
    "\n",
    "#without bad features does better on val but worse on lb"
   ]
  },
  {
   "cell_type": "code",
   "execution_count": 447,
   "metadata": {
    "collapsed": true
   },
   "outputs": [],
   "source": [
    "features = [\"step_cost\",\"discover\",\"view\",\"start\",\"pass\",\n",
    "                                       \"mintime\",\n",
    "                                       \"maxtime\",\n",
    "                                       \"maxtime-mintime\",\n",
    "                                       \"numsess\",\n",
    "                                       \"avgsess\",\n",
    "                                       \"avgtime\",\n",
    "                                       \"derivend\",\n",
    "                                       \"derivavg\",\n",
    "                                       \"maxdelay\",\n",
    "                                       \"lasttime\",\n",
    "                                       \"lasttime1\"\n",
    "                                       ,\"isnumber\",\"isstring\",\"iscoder\"]"
   ]
  },
  {
   "cell_type": "code",
   "execution_count": 417,
   "metadata": {
    "collapsed": true
   },
   "outputs": [],
   "source": [
    "def create_feature_map(fmap_filename, features):\n",
    "    '''\n",
    "    features: enumerable of feature names\n",
    "    '''\n",
    "    outfile = open(fmap_filename, 'w')\n",
    "    for i, feat in enumerate(features):\n",
    "        outfile.write('{0}\\t{1}\\tq\\n'.format(i, feat))\n",
    "    outfile.close()\n",
    "\n",
    "create_feature_map('xgb.fmap', features) "
   ]
  },
  {
   "cell_type": "code",
   "execution_count": null,
   "metadata": {
    "collapsed": true
   },
   "outputs": [],
   "source": []
  },
  {
   "cell_type": "code",
   "execution_count": 78,
   "metadata": {
    "collapsed": true
   },
   "outputs": [],
   "source": [
    "from matplotlib import pyplot\n",
    "import seaborn as sns"
   ]
  },
  {
   "cell_type": "code",
   "execution_count": 68,
   "metadata": {
    "collapsed": false
   },
   "outputs": [],
   "source": [
    "a=ttst.get_score(fmap = 'xgb.fmap', importance_type = 'cover')#[list(ttst.get_score(fmap = 'xgb.fmap', importance_type = 'cover').keys())]"
   ]
  },
  {
   "cell_type": "code",
   "execution_count": 83,
   "metadata": {
    "collapsed": false
   },
   "outputs": [],
   "source": [
    "import pandas as pd"
   ]
  },
  {
   "cell_type": "code",
   "execution_count": 129,
   "metadata": {
    "collapsed": false
   },
   "outputs": [],
   "source": [
    "\n",
    "#clf.best_estimator_\n",
    "\n",
    "#boostmodel1.feature_importances_\n",
    "a=pd.DataFrame(ttst.get_score(fmap = 'xgb.fmap', importance_type = 'gain'),np.arange(1))\n",
    "#sns.plt.([i[0] for i in a.items()],[i[1] for i in a.items()])\n",
    "#pyplot.bar(range(len(boostmodel1.feature_importances_)), boostmodel1.feature_importances_)\n",
    "a.plot(kind=\"bar\",colormap=\"Pastel1\")\n",
    "pyplot.show()"
   ]
  },
  {
   "cell_type": "code",
   "execution_count": 91,
   "metadata": {
    "collapsed": false
   },
   "outputs": [
    {
     "data": {
      "text/html": [
       "<div>\n",
       "<table border=\"1\" class=\"dataframe\">\n",
       "  <thead>\n",
       "    <tr style=\"text-align: right;\">\n",
       "      <th></th>\n",
       "      <th>avgsess</th>\n",
       "      <th>avgtime</th>\n",
       "      <th>derivavg</th>\n",
       "      <th>derivend</th>\n",
       "      <th>discover</th>\n",
       "      <th>iscoder</th>\n",
       "      <th>isnumber</th>\n",
       "      <th>lasttime</th>\n",
       "      <th>lasttime1</th>\n",
       "      <th>maxdelay</th>\n",
       "      <th>maxtime</th>\n",
       "      <th>maxtime-mintime</th>\n",
       "      <th>mintime</th>\n",
       "      <th>numsess</th>\n",
       "      <th>pass</th>\n",
       "      <th>start</th>\n",
       "      <th>step_cost</th>\n",
       "      <th>view</th>\n",
       "    </tr>\n",
       "  </thead>\n",
       "  <tbody>\n",
       "    <tr>\n",
       "      <th>0</th>\n",
       "      <td>412.244569</td>\n",
       "      <td>72.459457</td>\n",
       "      <td>66.416672</td>\n",
       "      <td>105.634197</td>\n",
       "      <td>56.332259</td>\n",
       "      <td>1739.357736</td>\n",
       "      <td>39.460066</td>\n",
       "      <td>32.961805</td>\n",
       "      <td>42.192599</td>\n",
       "      <td>129.180926</td>\n",
       "      <td>236.760132</td>\n",
       "      <td>140.44222</td>\n",
       "      <td>474.030209</td>\n",
       "      <td>22.003198</td>\n",
       "      <td>30.683342</td>\n",
       "      <td>296.324458</td>\n",
       "      <td>297.599283</td>\n",
       "      <td>815.896647</td>\n",
       "    </tr>\n",
       "  </tbody>\n",
       "</table>\n",
       "</div>"
      ],
      "text/plain": [
       "      avgsess    avgtime   derivavg    derivend   discover      iscoder  \\\n",
       "0  412.244569  72.459457  66.416672  105.634197  56.332259  1739.357736   \n",
       "\n",
       "    isnumber   lasttime  lasttime1    maxdelay     maxtime  maxtime-mintime  \\\n",
       "0  39.460066  32.961805  42.192599  129.180926  236.760132        140.44222   \n",
       "\n",
       "      mintime    numsess       pass       start   step_cost        view  \n",
       "0  474.030209  22.003198  30.683342  296.324458  297.599283  815.896647  "
      ]
     },
     "execution_count": 91,
     "metadata": {},
     "output_type": "execute_result"
    }
   ],
   "source": [
    "pd.DataFrame(a,np.arange(1))"
   ]
  },
  {
   "cell_type": "code",
   "execution_count": 88,
   "metadata": {
    "collapsed": false
   },
   "outputs": [
    {
     "data": {
      "text/plain": [
       "18"
      ]
     },
     "execution_count": 88,
     "metadata": {},
     "output_type": "execute_result"
    }
   ],
   "source": [
    "len(a)"
   ]
  },
  {
   "cell_type": "code",
   "execution_count": 142,
   "metadata": {
    "collapsed": false
   },
   "outputs": [
    {
     "data": {
      "text/plain": [
       "array([[69.0, 206.0, 142.0, ..., 335, 89, 89],\n",
       "       [3.0, 15.0, 10.0, ..., 149, 103, 18],\n",
       "       [203.0, 611.0, 407.0, ..., 235273, 35954, 0],\n",
       "       ..., \n",
       "       [153.0, 342.0, 209.0, ..., 685384, 14574, 31],\n",
       "       [0.0, 6.0, 4.0, ..., 12, 12, 0],\n",
       "       [2.0, 29.0, 20.0, ..., 47, 15, 0]], dtype=object)"
      ]
     },
     "execution_count": 142,
     "metadata": {},
     "output_type": "execute_result"
    }
   ],
   "source": [
    "Xtr"
   ]
  },
  {
   "cell_type": "code",
   "execution_count": 30,
   "metadata": {
    "collapsed": false
   },
   "outputs": [],
   "source": [
    "from sklearn.externals import joblib"
   ]
  },
  {
   "cell_type": "code",
   "execution_count": 418,
   "metadata": {
    "collapsed": false
   },
   "outputs": [
    {
     "data": {
      "text/plain": [
       "['0.51_ScoreModel.pkl']"
      ]
     },
     "execution_count": 418,
     "metadata": {},
     "output_type": "execute_result"
    }
   ],
   "source": [
    "joblib.dump(boostmodel1,\"0.51_ScoreModel.pkl\",compress=9)"
   ]
  },
  {
   "cell_type": "code",
   "execution_count": null,
   "metadata": {
    "collapsed": true
   },
   "outputs": [],
   "source": [
    "joblib.dump(model,\"0.443_ScoreModel.pkl\",compress=9)"
   ]
  },
  {
   "cell_type": "code",
   "execution_count": 71,
   "metadata": {
    "collapsed": true
   },
   "outputs": [],
   "source": [
    "def create_submission(X, name):\n",
    "    np.savetxt('%s.csv'%name, X, delimiter=',', fmt=\"%d\", header='user_id,passed', comments='')"
   ]
  },
  {
   "cell_type": "code",
   "execution_count": 72,
   "metadata": {
    "collapsed": false
   },
   "outputs": [],
   "source": [
    "#Предскажем результат и запишем его в .csv\n",
    "#ans = clf.best_estimator_.predict(X_test)\n",
    "ans = boostmodel1.predict(X_test)\n",
    "result = np.concatenate((np.asarray(ind_test, dtype=int).reshape(-1, 1), np.asarray(ans, dtype=int).reshape(-1, 1)), axis=1)\n",
    "create_submission(result, 'submission')"
   ]
  },
  {
   "cell_type": "code",
   "execution_count": 1,
   "metadata": {
    "collapsed": false
   },
   "outputs": [
    {
     "ename": "NameError",
     "evalue": "name 'events' is not defined",
     "output_type": "error",
     "traceback": [
      "\u001b[1;31m---------------------------------------------------------------------------\u001b[0m",
      "\u001b[1;31mNameError\u001b[0m                                 Traceback (most recent call last)",
      "\u001b[1;32m<ipython-input-1-df9a35c9cf57>\u001b[0m in \u001b[0;36m<module>\u001b[1;34m()\u001b[0m\n\u001b[1;32m----> 1\u001b[1;33m \u001b[0mevents\u001b[0m\u001b[1;33m[\u001b[0m\u001b[1;34m\"user_id\"\u001b[0m\u001b[1;33m]\u001b[0m\u001b[1;33m.\u001b[0m\u001b[0munique\u001b[0m\u001b[1;33m(\u001b[0m\u001b[1;33m)\u001b[0m\u001b[1;31m#events[\"user_id\"].unique()#.head()\u001b[0m\u001b[1;33m\u001b[0m\u001b[0m\n\u001b[0m",
      "\u001b[1;31mNameError\u001b[0m: name 'events' is not defined"
     ]
    }
   ],
   "source": [
    "events[\"user_id\"].unique()#events[\"user_id\"].unique()#.head()"
   ]
  },
  {
   "cell_type": "code",
   "execution_count": 9,
   "metadata": {
    "collapsed": false
   },
   "outputs": [
    {
     "data": {
      "text/html": [
       "<div>\n",
       "<table border=\"1\" class=\"dataframe\">\n",
       "  <thead>\n",
       "    <tr style=\"text-align: right;\">\n",
       "      <th></th>\n",
       "      <th>user_id</th>\n",
       "      <th>action</th>\n",
       "      <th>step_id</th>\n",
       "      <th>time</th>\n",
       "      <th>step_type</th>\n",
       "      <th>step_cost</th>\n",
       "      <th>discover</th>\n",
       "      <th>view</th>\n",
       "      <th>start</th>\n",
       "      <th>pass</th>\n",
       "    </tr>\n",
       "  </thead>\n",
       "  <tbody>\n",
       "    <tr>\n",
       "      <th>0</th>\n",
       "      <td>5920</td>\n",
       "      <td>discovered</td>\n",
       "      <td>2681</td>\n",
       "      <td>1403165936</td>\n",
       "      <td>text</td>\n",
       "      <td>0</td>\n",
       "      <td>1.0</td>\n",
       "      <td>1.0</td>\n",
       "      <td>1.0</td>\n",
       "      <td>0.0</td>\n",
       "    </tr>\n",
       "    <tr>\n",
       "      <th>1</th>\n",
       "      <td>5920</td>\n",
       "      <td>passed</td>\n",
       "      <td>2681</td>\n",
       "      <td>1403165936</td>\n",
       "      <td>text</td>\n",
       "      <td>0</td>\n",
       "      <td>1.0</td>\n",
       "      <td>0.0</td>\n",
       "      <td>1.0</td>\n",
       "      <td>1.0</td>\n",
       "    </tr>\n",
       "    <tr>\n",
       "      <th>2</th>\n",
       "      <td>5920</td>\n",
       "      <td>viewed</td>\n",
       "      <td>2681</td>\n",
       "      <td>1403165936</td>\n",
       "      <td>text</td>\n",
       "      <td>0</td>\n",
       "      <td>1.0</td>\n",
       "      <td>1.0</td>\n",
       "      <td>0.0</td>\n",
       "      <td>0.0</td>\n",
       "    </tr>\n",
       "    <tr>\n",
       "      <th>3</th>\n",
       "      <td>5920</td>\n",
       "      <td>passed</td>\n",
       "      <td>2682</td>\n",
       "      <td>1403165946</td>\n",
       "      <td>text</td>\n",
       "      <td>0</td>\n",
       "      <td>1.0</td>\n",
       "      <td>0.0</td>\n",
       "      <td>1.0</td>\n",
       "      <td>1.0</td>\n",
       "    </tr>\n",
       "    <tr>\n",
       "      <th>4</th>\n",
       "      <td>5920</td>\n",
       "      <td>viewed</td>\n",
       "      <td>2682</td>\n",
       "      <td>1403165946</td>\n",
       "      <td>text</td>\n",
       "      <td>0</td>\n",
       "      <td>1.0</td>\n",
       "      <td>1.0</td>\n",
       "      <td>0.0</td>\n",
       "      <td>0.0</td>\n",
       "    </tr>\n",
       "  </tbody>\n",
       "</table>\n",
       "</div>"
      ],
      "text/plain": [
       "   user_id      action  step_id        time step_type  step_cost  discover  \\\n",
       "0     5920  discovered     2681  1403165936      text          0       1.0   \n",
       "1     5920      passed     2681  1403165936      text          0       1.0   \n",
       "2     5920      viewed     2681  1403165936      text          0       1.0   \n",
       "3     5920      passed     2682  1403165946      text          0       1.0   \n",
       "4     5920      viewed     2682  1403165946      text          0       1.0   \n",
       "\n",
       "   view  start  pass  \n",
       "0   1.0    1.0   0.0  \n",
       "1   0.0    1.0   1.0  \n",
       "2   1.0    0.0   0.0  \n",
       "3   0.0    1.0   1.0  \n",
       "4   1.0    0.0   0.0  "
      ]
     },
     "execution_count": 9,
     "metadata": {},
     "output_type": "execute_result"
    }
   ],
   "source": [
    "\n",
    "events.head()"
   ]
  },
  {
   "cell_type": "code",
   "execution_count": 149,
   "metadata": {
    "collapsed": false
   },
   "outputs": [
    {
     "data": {
      "text/html": [
       "<div>\n",
       "<table border=\"1\" class=\"dataframe\">\n",
       "  <thead>\n",
       "    <tr style=\"text-align: right;\">\n",
       "      <th></th>\n",
       "      <th>course_id</th>\n",
       "      <th>module_id</th>\n",
       "      <th>module_position</th>\n",
       "      <th>lesson_id</th>\n",
       "      <th>lesson_position</th>\n",
       "      <th>step_id</th>\n",
       "      <th>step_position</th>\n",
       "      <th>step_type</th>\n",
       "      <th>step_cost</th>\n",
       "    </tr>\n",
       "  </thead>\n",
       "  <tbody>\n",
       "    <tr>\n",
       "      <th>0</th>\n",
       "      <td>7</td>\n",
       "      <td>17</td>\n",
       "      <td>1</td>\n",
       "      <td>2721</td>\n",
       "      <td>1</td>\n",
       "      <td>7225</td>\n",
       "      <td>1</td>\n",
       "      <td>text</td>\n",
       "      <td>0</td>\n",
       "    </tr>\n",
       "    <tr>\n",
       "      <th>1</th>\n",
       "      <td>7</td>\n",
       "      <td>17</td>\n",
       "      <td>1</td>\n",
       "      <td>2721</td>\n",
       "      <td>1</td>\n",
       "      <td>7230</td>\n",
       "      <td>2</td>\n",
       "      <td>text</td>\n",
       "      <td>0</td>\n",
       "    </tr>\n",
       "    <tr>\n",
       "      <th>2</th>\n",
       "      <td>7</td>\n",
       "      <td>17</td>\n",
       "      <td>1</td>\n",
       "      <td>2721</td>\n",
       "      <td>1</td>\n",
       "      <td>7231</td>\n",
       "      <td>3</td>\n",
       "      <td>text</td>\n",
       "      <td>0</td>\n",
       "    </tr>\n",
       "    <tr>\n",
       "      <th>3</th>\n",
       "      <td>7</td>\n",
       "      <td>17</td>\n",
       "      <td>1</td>\n",
       "      <td>2721</td>\n",
       "      <td>1</td>\n",
       "      <td>7232</td>\n",
       "      <td>4</td>\n",
       "      <td>text</td>\n",
       "      <td>0</td>\n",
       "    </tr>\n",
       "    <tr>\n",
       "      <th>4</th>\n",
       "      <td>7</td>\n",
       "      <td>17</td>\n",
       "      <td>1</td>\n",
       "      <td>2721</td>\n",
       "      <td>1</td>\n",
       "      <td>43604</td>\n",
       "      <td>5</td>\n",
       "      <td>text</td>\n",
       "      <td>0</td>\n",
       "    </tr>\n",
       "  </tbody>\n",
       "</table>\n",
       "</div>"
      ],
      "text/plain": [
       "   course_id  module_id  module_position  lesson_id  lesson_position  step_id  \\\n",
       "0          7         17                1       2721                1     7225   \n",
       "1          7         17                1       2721                1     7230   \n",
       "2          7         17                1       2721                1     7231   \n",
       "3          7         17                1       2721                1     7232   \n",
       "4          7         17                1       2721                1    43604   \n",
       "\n",
       "   step_position step_type  step_cost  \n",
       "0              1      text          0  \n",
       "1              2      text          0  \n",
       "2              3      text          0  \n",
       "3              4      text          0  \n",
       "4              5      text          0  "
      ]
     },
     "execution_count": 149,
     "metadata": {},
     "output_type": "execute_result"
    }
   ],
   "source": [
    "structure.head()"
   ]
  },
  {
   "cell_type": "code",
   "execution_count": 151,
   "metadata": {
    "collapsed": false
   },
   "outputs": [
    {
     "data": {
      "text/plain": [
       "array(['text', 'video', 'choice', 'code', 'number', 'string'], dtype=object)"
      ]
     },
     "execution_count": 151,
     "metadata": {},
     "output_type": "execute_result"
    }
   ],
   "source": [
    "structure[\"step_type\"].unique()"
   ]
  },
  {
   "cell_type": "code",
   "execution_count": null,
   "metadata": {
    "collapsed": true
   },
   "outputs": [],
   "source": [
    "#Gather statistics only bout costed\n",
    "#Bool for code, string, number ..."
   ]
  }
 ],
 "metadata": {
  "anaconda-cloud": {},
  "kernelspec": {
   "display_name": "Python 3",
   "language": "python",
   "name": "python3"
  },
  "language_info": {
   "codemirror_mode": {
    "name": "ipython",
    "version": 3
   },
   "file_extension": ".py",
   "mimetype": "text/x-python",
   "name": "python",
   "nbconvert_exporter": "python",
   "pygments_lexer": "ipython3",
   "version": "3.5.2"
  }
 },
 "nbformat": 4,
 "nbformat_minor": 1
}
